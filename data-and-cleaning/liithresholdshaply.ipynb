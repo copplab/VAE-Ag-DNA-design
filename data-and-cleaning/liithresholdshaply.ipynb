{
 "cells": [
  {
   "cell_type": "code",
   "execution_count": 1,
   "metadata": {},
   "outputs": [],
   "source": [
    "import pandas as pd\n",
    "import numpy as np\n",
    "import matplotlib.pyplot as plt"
   ]
  },
  {
   "cell_type": "code",
   "execution_count": 3,
   "metadata": {},
   "outputs": [
    {
     "data": {
      "text/plain": [
       "630"
      ]
     },
     "execution_count": 3,
     "metadata": {},
     "output_type": "execute_result"
    }
   ],
   "source": [
    "df= pd.read_csv('cleandata-Z-values.csv')\n",
    "data= df[df['Wavelength']< 590]\n",
    "len(data)"
   ]
  },
  {
   "cell_type": "code",
   "execution_count": 5,
   "metadata": {},
   "outputs": [],
   "source": [
    "pd.DataFrame(data).to_csv('Green-unstratified.csv', index= False)"
   ]
  },
  {
   "cell_type": "code",
   "execution_count": 9,
   "metadata": {},
   "outputs": [
    {
     "data": {
      "text/html": [
       "<div>\n",
       "<style scoped>\n",
       "    .dataframe tbody tr th:only-of-type {\n",
       "        vertical-align: middle;\n",
       "    }\n",
       "\n",
       "    .dataframe tbody tr th {\n",
       "        vertical-align: top;\n",
       "    }\n",
       "\n",
       "    .dataframe thead th {\n",
       "        text-align: right;\n",
       "    }\n",
       "</style>\n",
       "<table border=\"1\" class=\"dataframe\">\n",
       "  <thead>\n",
       "    <tr style=\"text-align: right;\">\n",
       "      <th></th>\n",
       "      <th>Wavelength</th>\n",
       "      <th>LII</th>\n",
       "      <th>Z-Wavelength</th>\n",
       "      <th>Z-LII</th>\n",
       "    </tr>\n",
       "  </thead>\n",
       "  <tbody>\n",
       "    <tr>\n",
       "      <th>count</th>\n",
       "      <td>630.000000</td>\n",
       "      <td>630.000000</td>\n",
       "      <td>630.000000</td>\n",
       "      <td>630.000000</td>\n",
       "    </tr>\n",
       "    <tr>\n",
       "      <th>mean</th>\n",
       "      <td>549.137094</td>\n",
       "      <td>5.623819</td>\n",
       "      <td>-2.641259</td>\n",
       "      <td>-0.872610</td>\n",
       "    </tr>\n",
       "    <tr>\n",
       "      <th>std</th>\n",
       "      <td>41.857855</td>\n",
       "      <td>11.725535</td>\n",
       "      <td>2.047494</td>\n",
       "      <td>2.493742</td>\n",
       "    </tr>\n",
       "    <tr>\n",
       "      <th>min</th>\n",
       "      <td>0.000000</td>\n",
       "      <td>0.503462</td>\n",
       "      <td>-9.956559</td>\n",
       "      <td>-9.741869</td>\n",
       "    </tr>\n",
       "    <tr>\n",
       "      <th>25%</th>\n",
       "      <td>537.339525</td>\n",
       "      <td>0.966579</td>\n",
       "      <td>-3.890919</td>\n",
       "      <td>-2.292092</td>\n",
       "    </tr>\n",
       "    <tr>\n",
       "      <th>50%</th>\n",
       "      <td>553.885153</td>\n",
       "      <td>1.979727</td>\n",
       "      <td>-2.497492</td>\n",
       "      <td>-0.833744</td>\n",
       "    </tr>\n",
       "    <tr>\n",
       "      <th>75%</th>\n",
       "      <td>570.813956</td>\n",
       "      <td>5.228384</td>\n",
       "      <td>-1.432204</td>\n",
       "      <td>0.782211</td>\n",
       "    </tr>\n",
       "    <tr>\n",
       "      <th>max</th>\n",
       "      <td>589.973329</td>\n",
       "      <td>124.032531</td>\n",
       "      <td>7.255314</td>\n",
       "      <td>5.799191</td>\n",
       "    </tr>\n",
       "  </tbody>\n",
       "</table>\n",
       "</div>"
      ],
      "text/plain": [
       "       Wavelength         LII  Z-Wavelength       Z-LII\n",
       "count  630.000000  630.000000    630.000000  630.000000\n",
       "mean   549.137094    5.623819     -2.641259   -0.872610\n",
       "std     41.857855   11.725535      2.047494    2.493742\n",
       "min      0.000000    0.503462     -9.956559   -9.741869\n",
       "25%    537.339525    0.966579     -3.890919   -2.292092\n",
       "50%    553.885153    1.979727     -2.497492   -0.833744\n",
       "75%    570.813956    5.228384     -1.432204    0.782211\n",
       "max    589.973329  124.032531      7.255314    5.799191"
      ]
     },
     "execution_count": 9,
     "metadata": {},
     "output_type": "execute_result"
    }
   ],
   "source": [
    "data.describe()"
   ]
  },
  {
   "cell_type": "code",
   "execution_count": 10,
   "metadata": {},
   "outputs": [
    {
     "data": {
      "image/png": "[encoded data removed]",
      "text/plain": [
       "<Figure size 640x480 with 1 Axes>"
      ]
     },
     "metadata": {},
     "output_type": "display_data"
    }
   ],
   "source": [
    "\n",
    "plt.hist(data['LII'], bins=10)\n",
    "y_ticks = np.arange(0, 600, 50)\n",
    "plt.yticks(y_ticks)\n",
    "plt.title('LII Distribution of Green')\n",
    "plt.xlabel('LII')\n",
    "plt.ylabel('Frequency')\n",
    "plt.show()"
   ]
  },
  {
   "cell_type": "code",
   "execution_count": 6,
   "metadata": {},
   "outputs": [
    {
     "name": "stdout",
     "output_type": "stream",
     "text": [
      "1.0703979227\n",
      "3.9900151899999967\n"
     ]
    }
   ],
   "source": [
    "q_30 = np.percentile(data['LII'], 30)\n",
    "q_70 = np.percentile(data['LII'], 70)\n",
    "\n",
    "print(q_30)\n",
    "print(q_70)"
   ]
  },
  {
   "cell_type": "code",
   "execution_count": 7,
   "metadata": {},
   "outputs": [
    {
     "name": "stdout",
     "output_type": "stream",
     "text": [
      "189\n"
     ]
    },
    {
     "data": {
      "text/plain": [
       "189"
      ]
     },
     "execution_count": 7,
     "metadata": {},
     "output_type": "execute_result"
    }
   ],
   "source": [
    "print(len(data[data['LII']<q_30]))\n",
    "len(data[data['LII']>q_70])"
   ]
  },
  {
   "cell_type": "code",
   "execution_count": 42,
   "metadata": {},
   "outputs": [
    {
     "data": {
      "text/html": [
       "<div>\n",
       "<style scoped>\n",
       "    .dataframe tbody tr th:only-of-type {\n",
       "        vertical-align: middle;\n",
       "    }\n",
       "\n",
       "    .dataframe tbody tr th {\n",
       "        vertical-align: top;\n",
       "    }\n",
       "\n",
       "    .dataframe thead th {\n",
       "        text-align: right;\n",
       "    }\n",
       "</style>\n",
       "<table border=\"1\" class=\"dataframe\">\n",
       "  <thead>\n",
       "    <tr style=\"text-align: right;\">\n",
       "      <th></th>\n",
       "      <th>Wavelength</th>\n",
       "      <th>LII</th>\n",
       "      <th>Z-Wavelength</th>\n",
       "      <th>Z-LII</th>\n",
       "    </tr>\n",
       "  </thead>\n",
       "  <tbody>\n",
       "    <tr>\n",
       "      <th>count</th>\n",
       "      <td>189.000000</td>\n",
       "      <td>189.000000</td>\n",
       "      <td>189.000000</td>\n",
       "      <td>189.000000</td>\n",
       "    </tr>\n",
       "    <tr>\n",
       "      <th>mean</th>\n",
       "      <td>553.663666</td>\n",
       "      <td>15.099766</td>\n",
       "      <td>-2.706330</td>\n",
       "      <td>1.418974</td>\n",
       "    </tr>\n",
       "    <tr>\n",
       "      <th>std</th>\n",
       "      <td>23.276366</td>\n",
       "      <td>18.139910</td>\n",
       "      <td>1.770716</td>\n",
       "      <td>1.767579</td>\n",
       "    </tr>\n",
       "    <tr>\n",
       "      <th>min</th>\n",
       "      <td>474.159169</td>\n",
       "      <td>4.044952</td>\n",
       "      <td>-7.196495</td>\n",
       "      <td>-7.778632</td>\n",
       "    </tr>\n",
       "    <tr>\n",
       "      <th>25%</th>\n",
       "      <td>538.085682</td>\n",
       "      <td>5.847351</td>\n",
       "      <td>-3.726399</td>\n",
       "      <td>0.644237</td>\n",
       "    </tr>\n",
       "    <tr>\n",
       "      <th>50%</th>\n",
       "      <td>554.523934</td>\n",
       "      <td>8.479319</td>\n",
       "      <td>-2.546914</td>\n",
       "      <td>1.328463</td>\n",
       "    </tr>\n",
       "    <tr>\n",
       "      <th>75%</th>\n",
       "      <td>572.412845</td>\n",
       "      <td>16.487358</td>\n",
       "      <td>-1.827545</td>\n",
       "      <td>2.276947</td>\n",
       "    </tr>\n",
       "    <tr>\n",
       "      <th>max</th>\n",
       "      <td>589.185794</td>\n",
       "      <td>124.032531</td>\n",
       "      <td>6.669214</td>\n",
       "      <td>5.435708</td>\n",
       "    </tr>\n",
       "  </tbody>\n",
       "</table>\n",
       "</div>"
      ],
      "text/plain": [
       "       Wavelength         LII  Z-Wavelength       Z-LII\n",
       "count  189.000000  189.000000    189.000000  189.000000\n",
       "mean   553.663666   15.099766     -2.706330    1.418974\n",
       "std     23.276366   18.139910      1.770716    1.767579\n",
       "min    474.159169    4.044952     -7.196495   -7.778632\n",
       "25%    538.085682    5.847351     -3.726399    0.644237\n",
       "50%    554.523934    8.479319     -2.546914    1.328463\n",
       "75%    572.412845   16.487358     -1.827545    2.276947\n",
       "max    589.185794  124.032531      6.669214    5.435708"
      ]
     },
     "execution_count": 42,
     "metadata": {},
     "output_type": "execute_result"
    }
   ],
   "source": [
    "(data[data['LII']>q_70]).describe()"
   ]
  },
  {
   "cell_type": "code",
   "execution_count": 13,
   "metadata": {},
   "outputs": [
    {
     "data": {
      "text/html": [
       "<div>\n",
       "<style scoped>\n",
       "    .dataframe tbody tr th:only-of-type {\n",
       "        vertical-align: middle;\n",
       "    }\n",
       "\n",
       "    .dataframe tbody tr th {\n",
       "        vertical-align: top;\n",
       "    }\n",
       "\n",
       "    .dataframe thead th {\n",
       "        text-align: right;\n",
       "    }\n",
       "</style>\n",
       "<table border=\"1\" class=\"dataframe\">\n",
       "  <thead>\n",
       "    <tr style=\"text-align: right;\">\n",
       "      <th></th>\n",
       "      <th>Wavelength</th>\n",
       "      <th>LII</th>\n",
       "      <th>Z-Wavelength</th>\n",
       "      <th>Z-LII</th>\n",
       "    </tr>\n",
       "  </thead>\n",
       "  <tbody>\n",
       "    <tr>\n",
       "      <th>count</th>\n",
       "      <td>189.000000</td>\n",
       "      <td>189.000000</td>\n",
       "      <td>189.000000</td>\n",
       "      <td>189.000000</td>\n",
       "    </tr>\n",
       "    <tr>\n",
       "      <th>mean</th>\n",
       "      <td>544.931571</td>\n",
       "      <td>0.780161</td>\n",
       "      <td>-2.283825</td>\n",
       "      <td>-2.312792</td>\n",
       "    </tr>\n",
       "    <tr>\n",
       "      <th>std</th>\n",
       "      <td>52.761509</td>\n",
       "      <td>0.168930</td>\n",
       "      <td>2.361431</td>\n",
       "      <td>2.204099</td>\n",
       "    </tr>\n",
       "    <tr>\n",
       "      <th>min</th>\n",
       "      <td>0.000000</td>\n",
       "      <td>0.503462</td>\n",
       "      <td>-9.956559</td>\n",
       "      <td>-8.426951</td>\n",
       "    </tr>\n",
       "    <tr>\n",
       "      <th>25%</th>\n",
       "      <td>537.266398</td>\n",
       "      <td>0.621697</td>\n",
       "      <td>-3.916964</td>\n",
       "      <td>-3.402874</td>\n",
       "    </tr>\n",
       "    <tr>\n",
       "      <th>50%</th>\n",
       "      <td>553.271304</td>\n",
       "      <td>0.788561</td>\n",
       "      <td>-2.053544</td>\n",
       "      <td>-2.347975</td>\n",
       "    </tr>\n",
       "    <tr>\n",
       "      <th>75%</th>\n",
       "      <td>570.923589</td>\n",
       "      <td>0.928275</td>\n",
       "      <td>-1.028219</td>\n",
       "      <td>-1.348026</td>\n",
       "    </tr>\n",
       "    <tr>\n",
       "      <th>max</th>\n",
       "      <td>589.672757</td>\n",
       "      <td>1.068479</td>\n",
       "      <td>7.255314</td>\n",
       "      <td>5.082532</td>\n",
       "    </tr>\n",
       "  </tbody>\n",
       "</table>\n",
       "</div>"
      ],
      "text/plain": [
       "       Wavelength         LII  Z-Wavelength       Z-LII\n",
       "count  189.000000  189.000000    189.000000  189.000000\n",
       "mean   544.931571    0.780161     -2.283825   -2.312792\n",
       "std     52.761509    0.168930      2.361431    2.204099\n",
       "min      0.000000    0.503462     -9.956559   -8.426951\n",
       "25%    537.266398    0.621697     -3.916964   -3.402874\n",
       "50%    553.271304    0.788561     -2.053544   -2.347975\n",
       "75%    570.923589    0.928275     -1.028219   -1.348026\n",
       "max    589.672757    1.068479      7.255314    5.082532"
      ]
     },
     "execution_count": 13,
     "metadata": {},
     "output_type": "execute_result"
    }
   ],
   "source": [
    "(data[data['LII']<q_30]).describe()"
   ]
  },
  {
   "cell_type": "code",
   "execution_count": 14,
   "metadata": {},
   "outputs": [
    {
     "data": {
      "text/html": [
       "<div>\n",
       "<style scoped>\n",
       "    .dataframe tbody tr th:only-of-type {\n",
       "        vertical-align: middle;\n",
       "    }\n",
       "\n",
       "    .dataframe tbody tr th {\n",
       "        vertical-align: top;\n",
       "    }\n",
       "\n",
       "    .dataframe thead th {\n",
       "        text-align: right;\n",
       "    }\n",
       "</style>\n",
       "<table border=\"1\" class=\"dataframe\">\n",
       "  <thead>\n",
       "    <tr style=\"text-align: right;\">\n",
       "      <th></th>\n",
       "      <th>Wavelength</th>\n",
       "      <th>LII</th>\n",
       "      <th>Z-Wavelength</th>\n",
       "      <th>Z-LII</th>\n",
       "    </tr>\n",
       "  </thead>\n",
       "  <tbody>\n",
       "    <tr>\n",
       "      <th>count</th>\n",
       "      <td>189.000000</td>\n",
       "      <td>189.000000</td>\n",
       "      <td>189.000000</td>\n",
       "      <td>189.000000</td>\n",
       "    </tr>\n",
       "    <tr>\n",
       "      <th>mean</th>\n",
       "      <td>553.663666</td>\n",
       "      <td>15.099766</td>\n",
       "      <td>-2.706330</td>\n",
       "      <td>1.418974</td>\n",
       "    </tr>\n",
       "    <tr>\n",
       "      <th>std</th>\n",
       "      <td>23.276366</td>\n",
       "      <td>18.139910</td>\n",
       "      <td>1.770716</td>\n",
       "      <td>1.767579</td>\n",
       "    </tr>\n",
       "    <tr>\n",
       "      <th>min</th>\n",
       "      <td>474.159169</td>\n",
       "      <td>4.044952</td>\n",
       "      <td>-7.196495</td>\n",
       "      <td>-7.778632</td>\n",
       "    </tr>\n",
       "    <tr>\n",
       "      <th>25%</th>\n",
       "      <td>538.085682</td>\n",
       "      <td>5.847351</td>\n",
       "      <td>-3.726399</td>\n",
       "      <td>0.644237</td>\n",
       "    </tr>\n",
       "    <tr>\n",
       "      <th>50%</th>\n",
       "      <td>554.523934</td>\n",
       "      <td>8.479319</td>\n",
       "      <td>-2.546914</td>\n",
       "      <td>1.328463</td>\n",
       "    </tr>\n",
       "    <tr>\n",
       "      <th>75%</th>\n",
       "      <td>572.412845</td>\n",
       "      <td>16.487358</td>\n",
       "      <td>-1.827545</td>\n",
       "      <td>2.276947</td>\n",
       "    </tr>\n",
       "    <tr>\n",
       "      <th>max</th>\n",
       "      <td>589.185794</td>\n",
       "      <td>124.032531</td>\n",
       "      <td>6.669214</td>\n",
       "      <td>5.435708</td>\n",
       "    </tr>\n",
       "  </tbody>\n",
       "</table>\n",
       "</div>"
      ],
      "text/plain": [
       "       Wavelength         LII  Z-Wavelength       Z-LII\n",
       "count  189.000000  189.000000    189.000000  189.000000\n",
       "mean   553.663666   15.099766     -2.706330    1.418974\n",
       "std     23.276366   18.139910      1.770716    1.767579\n",
       "min    474.159169    4.044952     -7.196495   -7.778632\n",
       "25%    538.085682    5.847351     -3.726399    0.644237\n",
       "50%    554.523934    8.479319     -2.546914    1.328463\n",
       "75%    572.412845   16.487358     -1.827545    2.276947\n",
       "max    589.185794  124.032531      6.669214    5.435708"
      ]
     },
     "execution_count": 14,
     "metadata": {},
     "output_type": "execute_result"
    }
   ],
   "source": [
    "(data[data['LII']>q_70]).describe()"
   ]
  },
  {
   "cell_type": "code",
   "execution_count": 9,
   "metadata": {},
   "outputs": [
    {
     "data": {
      "text/plain": [
       "157"
      ]
     },
     "execution_count": 9,
     "metadata": {},
     "output_type": "execute_result"
    }
   ],
   "source": [
    "df= pd.read_csv('cleandata-Z-values.csv')\n",
    "NIR= df[df['Wavelength']> 800]\n",
    "len(NIR)"
   ]
  },
  {
   "cell_type": "code",
   "execution_count": 14,
   "metadata": {},
   "outputs": [],
   "source": [
    "pd.DataFrame(NIR).to_csv('unstr-cleandata-Z-values.csv', index= False)"
   ]
  },
  {
   "cell_type": "code",
   "execution_count": 15,
   "metadata": {},
   "outputs": [
    {
     "data": {
      "text/plain": [
       "(array([139.,  10.,   2.,   2.,   0.,   1.,   0.,   1.,   0.,   2.]),\n",
       " array([  0.53627476,  36.16829393,  71.8003131 , 107.43233228,\n",
       "        143.06435145, 178.69637063, 214.3283898 , 249.96040898,\n",
       "        285.59242815, 321.22444733, 356.8564665 ]),\n",
       " <BarContainer object of 10 artists>)"
      ]
     },
     "execution_count": 15,
     "metadata": {},
     "output_type": "execute_result"
    },
    {
     "data": {
      "image/png": "[encoded data removed]",
      "text/plain": [
       "<Figure size 640x480 with 1 Axes>"
      ]
     },
     "metadata": {},
     "output_type": "display_data"
    }
   ],
   "source": [
    "plt.hist(NIR['LII'], bins=10)"
   ]
  },
  {
   "cell_type": "code",
   "execution_count": 16,
   "metadata": {},
   "outputs": [
    {
     "name": "stdout",
     "output_type": "stream",
     "text": [
      "15.263232870000001\n",
      "32\n"
     ]
    }
   ],
   "source": [
    "nir_80 = np.percentile(NIR['LII'],80)\n",
    "print(nir_80)\n",
    "print(len(NIR[NIR['LII']>nir_80]))"
   ]
  },
  {
   "cell_type": "code",
   "execution_count": 12,
   "metadata": {},
   "outputs": [
    {
     "data": {
      "text/html": [
       "<div>\n",
       "<style scoped>\n",
       "    .dataframe tbody tr th:only-of-type {\n",
       "        vertical-align: middle;\n",
       "    }\n",
       "\n",
       "    .dataframe tbody tr th {\n",
       "        vertical-align: top;\n",
       "    }\n",
       "\n",
       "    .dataframe thead th {\n",
       "        text-align: right;\n",
       "    }\n",
       "</style>\n",
       "<table border=\"1\" class=\"dataframe\">\n",
       "  <thead>\n",
       "    <tr style=\"text-align: right;\">\n",
       "      <th></th>\n",
       "      <th>Wavelength</th>\n",
       "      <th>LII</th>\n",
       "      <th>Z-Wavelength</th>\n",
       "      <th>Z-LII</th>\n",
       "    </tr>\n",
       "  </thead>\n",
       "  <tbody>\n",
       "    <tr>\n",
       "      <th>count</th>\n",
       "      <td>47.000000</td>\n",
       "      <td>47.000000</td>\n",
       "      <td>47.000000</td>\n",
       "      <td>47.000000</td>\n",
       "    </tr>\n",
       "    <tr>\n",
       "      <th>mean</th>\n",
       "      <td>867.438732</td>\n",
       "      <td>54.349484</td>\n",
       "      <td>3.781804</td>\n",
       "      <td>2.737146</td>\n",
       "    </tr>\n",
       "    <tr>\n",
       "      <th>std</th>\n",
       "      <td>44.770199</td>\n",
       "      <td>77.717853</td>\n",
       "      <td>2.466966</td>\n",
       "      <td>1.710664</td>\n",
       "    </tr>\n",
       "    <tr>\n",
       "      <th>min</th>\n",
       "      <td>801.393543</td>\n",
       "      <td>9.773816</td>\n",
       "      <td>-1.876959</td>\n",
       "      <td>-2.129854</td>\n",
       "    </tr>\n",
       "    <tr>\n",
       "      <th>25%</th>\n",
       "      <td>824.192110</td>\n",
       "      <td>14.413328</td>\n",
       "      <td>2.142517</td>\n",
       "      <td>1.844791</td>\n",
       "    </tr>\n",
       "    <tr>\n",
       "      <th>50%</th>\n",
       "      <td>874.779165</td>\n",
       "      <td>29.864372</td>\n",
       "      <td>3.630090</td>\n",
       "      <td>2.584831</td>\n",
       "    </tr>\n",
       "    <tr>\n",
       "      <th>75%</th>\n",
       "      <td>899.471318</td>\n",
       "      <td>42.843124</td>\n",
       "      <td>5.423269</td>\n",
       "      <td>3.856844</td>\n",
       "    </tr>\n",
       "    <tr>\n",
       "      <th>max</th>\n",
       "      <td>965.443914</td>\n",
       "      <td>356.856467</td>\n",
       "      <td>9.203036</td>\n",
       "      <td>5.991060</td>\n",
       "    </tr>\n",
       "  </tbody>\n",
       "</table>\n",
       "</div>"
      ],
      "text/plain": [
       "       Wavelength         LII  Z-Wavelength      Z-LII\n",
       "count   47.000000   47.000000     47.000000  47.000000\n",
       "mean   867.438732   54.349484      3.781804   2.737146\n",
       "std     44.770199   77.717853      2.466966   1.710664\n",
       "min    801.393543    9.773816     -1.876959  -2.129854\n",
       "25%    824.192110   14.413328      2.142517   1.844791\n",
       "50%    874.779165   29.864372      3.630090   2.584831\n",
       "75%    899.471318   42.843124      5.423269   3.856844\n",
       "max    965.443914  356.856467      9.203036   5.991060"
      ]
     },
     "execution_count": 12,
     "metadata": {},
     "output_type": "execute_result"
    }
   ],
   "source": [
    "(NIR[NIR['LII']>nir_70]).describe()"
   ]
  },
  {
   "cell_type": "code",
   "execution_count": 13,
   "metadata": {},
   "outputs": [
    {
     "name": "stdout",
     "output_type": "stream",
     "text": [
      "2.5890921512\n",
      "47\n"
     ]
    }
   ],
   "source": [
    "nir_30 = np.percentile(NIR['LII'],30)\n",
    "print(nir_30)\n",
    "print(len(NIR[NIR['LII']<nir_30]))"
   ]
  },
  {
   "cell_type": "code",
   "execution_count": 7,
   "metadata": {},
   "outputs": [
    {
     "data": {
      "text/html": [
       "<div>\n",
       "<style scoped>\n",
       "    .dataframe tbody tr th:only-of-type {\n",
       "        vertical-align: middle;\n",
       "    }\n",
       "\n",
       "    .dataframe tbody tr th {\n",
       "        vertical-align: top;\n",
       "    }\n",
       "\n",
       "    .dataframe thead th {\n",
       "        text-align: right;\n",
       "    }\n",
       "</style>\n",
       "<table border=\"1\" class=\"dataframe\">\n",
       "  <thead>\n",
       "    <tr style=\"text-align: right;\">\n",
       "      <th></th>\n",
       "      <th>Wavelength</th>\n",
       "      <th>LII</th>\n",
       "      <th>Z-Wavelength</th>\n",
       "      <th>Z-LII</th>\n",
       "    </tr>\n",
       "  </thead>\n",
       "  <tbody>\n",
       "    <tr>\n",
       "      <th>count</th>\n",
       "      <td>47.000000</td>\n",
       "      <td>47.000000</td>\n",
       "      <td>47.000000</td>\n",
       "      <td>47.000000</td>\n",
       "    </tr>\n",
       "    <tr>\n",
       "      <th>mean</th>\n",
       "      <td>918.147775</td>\n",
       "      <td>1.336856</td>\n",
       "      <td>3.642619</td>\n",
       "      <td>-2.758805</td>\n",
       "    </tr>\n",
       "    <tr>\n",
       "      <th>std</th>\n",
       "      <td>81.220256</td>\n",
       "      <td>0.644061</td>\n",
       "      <td>1.399525</td>\n",
       "      <td>1.725360</td>\n",
       "    </tr>\n",
       "    <tr>\n",
       "      <th>min</th>\n",
       "      <td>803.437551</td>\n",
       "      <td>0.536275</td>\n",
       "      <td>0.764128</td>\n",
       "      <td>-8.470201</td>\n",
       "    </tr>\n",
       "    <tr>\n",
       "      <th>25%</th>\n",
       "      <td>846.802179</td>\n",
       "      <td>0.781799</td>\n",
       "      <td>2.691706</td>\n",
       "      <td>-3.407317</td>\n",
       "    </tr>\n",
       "    <tr>\n",
       "      <th>50%</th>\n",
       "      <td>927.955043</td>\n",
       "      <td>1.210508</td>\n",
       "      <td>3.346953</td>\n",
       "      <td>-2.349331</td>\n",
       "    </tr>\n",
       "    <tr>\n",
       "      <th>75%</th>\n",
       "      <td>974.501369</td>\n",
       "      <td>1.876208</td>\n",
       "      <td>4.590374</td>\n",
       "      <td>-1.808624</td>\n",
       "    </tr>\n",
       "    <tr>\n",
       "      <th>max</th>\n",
       "      <td>1198.939516</td>\n",
       "      <td>2.514276</td>\n",
       "      <td>8.371406</td>\n",
       "      <td>-0.311440</td>\n",
       "    </tr>\n",
       "  </tbody>\n",
       "</table>\n",
       "</div>"
      ],
      "text/plain": [
       "        Wavelength        LII  Z-Wavelength      Z-LII\n",
       "count    47.000000  47.000000     47.000000  47.000000\n",
       "mean    918.147775   1.336856      3.642619  -2.758805\n",
       "std      81.220256   0.644061      1.399525   1.725360\n",
       "min     803.437551   0.536275      0.764128  -8.470201\n",
       "25%     846.802179   0.781799      2.691706  -3.407317\n",
       "50%     927.955043   1.210508      3.346953  -2.349331\n",
       "75%     974.501369   1.876208      4.590374  -1.808624\n",
       "max    1198.939516   2.514276      8.371406  -0.311440"
      ]
     },
     "execution_count": 7,
     "metadata": {},
     "output_type": "execute_result"
    }
   ],
   "source": [
    "(NIR[NIR['LII']<nir_30]).describe()"
   ]
  },
  {
   "cell_type": "code",
   "execution_count": 23,
   "metadata": {},
   "outputs": [
    {
     "data": {
      "text/plain": [
       "703"
      ]
     },
     "execution_count": 23,
     "metadata": {},
     "output_type": "execute_result"
    }
   ],
   "source": [
    "df= pd.read_csv('train-data-Zvalue.csv')\n",
    "Red = df[(df['Wavelength'] > 590) & (df['Wavelength'] < 660)]\n",
    "len(Red)"
   ]
  },
  {
   "cell_type": "code",
   "execution_count": 28,
   "metadata": {},
   "outputs": [],
   "source": [
    "pd.DataFrame(Red).to_csv('Red-Stratified.csv', index= False)"
   ]
  },
  {
   "cell_type": "code",
   "execution_count": 24,
   "metadata": {},
   "outputs": [
    {
     "name": "stdout",
     "output_type": "stream",
     "text": [
      "5.736518337799999\n",
      "211\n"
     ]
    }
   ],
   "source": [
    "Red_70 = np.percentile(Red['LII'],70)\n",
    "print(Red_70)\n",
    "print(len(Red[Red['LII']>Red_70]))"
   ]
  },
  {
   "cell_type": "code",
   "execution_count": 38,
   "metadata": {},
   "outputs": [
    {
     "data": {
      "text/html": [
       "<div>\n",
       "<style scoped>\n",
       "    .dataframe tbody tr th:only-of-type {\n",
       "        vertical-align: middle;\n",
       "    }\n",
       "\n",
       "    .dataframe tbody tr th {\n",
       "        vertical-align: top;\n",
       "    }\n",
       "\n",
       "    .dataframe thead th {\n",
       "        text-align: right;\n",
       "    }\n",
       "</style>\n",
       "<table border=\"1\" class=\"dataframe\">\n",
       "  <thead>\n",
       "    <tr style=\"text-align: right;\">\n",
       "      <th></th>\n",
       "      <th>Wavelength</th>\n",
       "      <th>LII</th>\n",
       "      <th>Z-Wavelength</th>\n",
       "      <th>Z-LII</th>\n",
       "    </tr>\n",
       "  </thead>\n",
       "  <tbody>\n",
       "    <tr>\n",
       "      <th>count</th>\n",
       "      <td>211.000000</td>\n",
       "      <td>211.000000</td>\n",
       "      <td>211.000000</td>\n",
       "      <td>211.000000</td>\n",
       "    </tr>\n",
       "    <tr>\n",
       "      <th>mean</th>\n",
       "      <td>634.396574</td>\n",
       "      <td>29.100495</td>\n",
       "      <td>-0.354011</td>\n",
       "      <td>1.913751</td>\n",
       "    </tr>\n",
       "    <tr>\n",
       "      <th>std</th>\n",
       "      <td>19.173569</td>\n",
       "      <td>47.968417</td>\n",
       "      <td>1.744225</td>\n",
       "      <td>1.785774</td>\n",
       "    </tr>\n",
       "    <tr>\n",
       "      <th>min</th>\n",
       "      <td>590.017436</td>\n",
       "      <td>5.763258</td>\n",
       "      <td>-5.375309</td>\n",
       "      <td>-4.568563</td>\n",
       "    </tr>\n",
       "    <tr>\n",
       "      <th>25%</th>\n",
       "      <td>620.704037</td>\n",
       "      <td>8.373246</td>\n",
       "      <td>-1.172794</td>\n",
       "      <td>0.803975</td>\n",
       "    </tr>\n",
       "    <tr>\n",
       "      <th>50%</th>\n",
       "      <td>638.036841</td>\n",
       "      <td>13.529105</td>\n",
       "      <td>-0.385115</td>\n",
       "      <td>1.743976</td>\n",
       "    </tr>\n",
       "    <tr>\n",
       "      <th>75%</th>\n",
       "      <td>650.579380</td>\n",
       "      <td>29.444793</td>\n",
       "      <td>0.446234</td>\n",
       "      <td>2.847687</td>\n",
       "    </tr>\n",
       "    <tr>\n",
       "      <th>max</th>\n",
       "      <td>659.942589</td>\n",
       "      <td>408.481842</td>\n",
       "      <td>13.272908</td>\n",
       "      <td>8.352700</td>\n",
       "    </tr>\n",
       "  </tbody>\n",
       "</table>\n",
       "</div>"
      ],
      "text/plain": [
       "       Wavelength         LII  Z-Wavelength       Z-LII\n",
       "count  211.000000  211.000000    211.000000  211.000000\n",
       "mean   634.396574   29.100495     -0.354011    1.913751\n",
       "std     19.173569   47.968417      1.744225    1.785774\n",
       "min    590.017436    5.763258     -5.375309   -4.568563\n",
       "25%    620.704037    8.373246     -1.172794    0.803975\n",
       "50%    638.036841   13.529105     -0.385115    1.743976\n",
       "75%    650.579380   29.444793      0.446234    2.847687\n",
       "max    659.942589  408.481842     13.272908    8.352700"
      ]
     },
     "execution_count": 38,
     "metadata": {},
     "output_type": "execute_result"
    }
   ],
   "source": [
    "(Red[Red['LII']>Red_70]).describe()"
   ]
  },
  {
   "cell_type": "code",
   "execution_count": 27,
   "metadata": {},
   "outputs": [
    {
     "name": "stdout",
     "output_type": "stream",
     "text": [
      "1.6190246142\n",
      "211\n"
     ]
    }
   ],
   "source": [
    "\n",
    "Red_30 = np.percentile(Red['LII'],30)\n",
    "print(Red_30)\n",
    "print(len(Red[Red['LII']<Red_30]))"
   ]
  },
  {
   "cell_type": "code",
   "execution_count": 39,
   "metadata": {},
   "outputs": [
    {
     "data": {
      "text/html": [
       "<div>\n",
       "<style scoped>\n",
       "    .dataframe tbody tr th:only-of-type {\n",
       "        vertical-align: middle;\n",
       "    }\n",
       "\n",
       "    .dataframe tbody tr th {\n",
       "        vertical-align: top;\n",
       "    }\n",
       "\n",
       "    .dataframe thead th {\n",
       "        text-align: right;\n",
       "    }\n",
       "</style>\n",
       "<table border=\"1\" class=\"dataframe\">\n",
       "  <thead>\n",
       "    <tr style=\"text-align: right;\">\n",
       "      <th></th>\n",
       "      <th>Wavelength</th>\n",
       "      <th>LII</th>\n",
       "      <th>Z-Wavelength</th>\n",
       "      <th>Z-LII</th>\n",
       "    </tr>\n",
       "  </thead>\n",
       "  <tbody>\n",
       "    <tr>\n",
       "      <th>count</th>\n",
       "      <td>211.000000</td>\n",
       "      <td>211.000000</td>\n",
       "      <td>211.000000</td>\n",
       "      <td>211.000000</td>\n",
       "    </tr>\n",
       "    <tr>\n",
       "      <th>mean</th>\n",
       "      <td>630.851079</td>\n",
       "      <td>0.998719</td>\n",
       "      <td>-0.469881</td>\n",
       "      <td>-1.753654</td>\n",
       "    </tr>\n",
       "    <tr>\n",
       "      <th>std</th>\n",
       "      <td>20.531680</td>\n",
       "      <td>0.318385</td>\n",
       "      <td>1.737565</td>\n",
       "      <td>1.999190</td>\n",
       "    </tr>\n",
       "    <tr>\n",
       "      <th>min</th>\n",
       "      <td>591.026112</td>\n",
       "      <td>0.504332</td>\n",
       "      <td>-6.881337</td>\n",
       "      <td>-8.715969</td>\n",
       "    </tr>\n",
       "    <tr>\n",
       "      <th>25%</th>\n",
       "      <td>614.501404</td>\n",
       "      <td>0.735406</td>\n",
       "      <td>-1.335412</td>\n",
       "      <td>-2.451805</td>\n",
       "    </tr>\n",
       "    <tr>\n",
       "      <th>50%</th>\n",
       "      <td>635.950250</td>\n",
       "      <td>1.008572</td>\n",
       "      <td>-0.358918</td>\n",
       "      <td>-1.795786</td>\n",
       "    </tr>\n",
       "    <tr>\n",
       "      <th>75%</th>\n",
       "      <td>648.891912</td>\n",
       "      <td>1.220330</td>\n",
       "      <td>0.432307</td>\n",
       "      <td>-0.993680</td>\n",
       "    </tr>\n",
       "    <tr>\n",
       "      <th>max</th>\n",
       "      <td>659.904268</td>\n",
       "      <td>1.614415</td>\n",
       "      <td>4.900633</td>\n",
       "      <td>7.769445</td>\n",
       "    </tr>\n",
       "  </tbody>\n",
       "</table>\n",
       "</div>"
      ],
      "text/plain": [
       "       Wavelength         LII  Z-Wavelength       Z-LII\n",
       "count  211.000000  211.000000    211.000000  211.000000\n",
       "mean   630.851079    0.998719     -0.469881   -1.753654\n",
       "std     20.531680    0.318385      1.737565    1.999190\n",
       "min    591.026112    0.504332     -6.881337   -8.715969\n",
       "25%    614.501404    0.735406     -1.335412   -2.451805\n",
       "50%    635.950250    1.008572     -0.358918   -1.795786\n",
       "75%    648.891912    1.220330      0.432307   -0.993680\n",
       "max    659.904268    1.614415      4.900633    7.769445"
      ]
     },
     "execution_count": 39,
     "metadata": {},
     "output_type": "execute_result"
    }
   ],
   "source": [
    "(Red[Red['LII']<Red_30]).describe()"
   ]
  },
  {
   "cell_type": "code",
   "execution_count": 29,
   "metadata": {},
   "outputs": [
    {
     "data": {
      "text/plain": [
       "714"
      ]
     },
     "execution_count": 29,
     "metadata": {},
     "output_type": "execute_result"
    }
   ],
   "source": [
    "df= pd.read_csv('train-data-Zvalue.csv')\n",
    "FRed = df[(df['Wavelength'] > 660) & (df['Wavelength'] < 800)]\n",
    "len(FRed)"
   ]
  },
  {
   "cell_type": "code",
   "execution_count": 30,
   "metadata": {},
   "outputs": [],
   "source": [
    "pd.DataFrame(FRed).to_csv('FRed-Stratified.csv', index= False)"
   ]
  },
  {
   "cell_type": "code",
   "execution_count": 32,
   "metadata": {},
   "outputs": [
    {
     "name": "stdout",
     "output_type": "stream",
     "text": [
      "8.884301635299995\n",
      "214\n"
     ]
    }
   ],
   "source": [
    "FRed_70 = np.percentile(FRed['LII'],70)\n",
    "print(FRed_70)\n",
    "print(len(FRed[FRed['LII']>FRed_70]))"
   ]
  },
  {
   "cell_type": "code",
   "execution_count": 40,
   "metadata": {},
   "outputs": [
    {
     "data": {
      "text/html": [
       "<div>\n",
       "<style scoped>\n",
       "    .dataframe tbody tr th:only-of-type {\n",
       "        vertical-align: middle;\n",
       "    }\n",
       "\n",
       "    .dataframe tbody tr th {\n",
       "        vertical-align: top;\n",
       "    }\n",
       "\n",
       "    .dataframe thead th {\n",
       "        text-align: right;\n",
       "    }\n",
       "</style>\n",
       "<table border=\"1\" class=\"dataframe\">\n",
       "  <thead>\n",
       "    <tr style=\"text-align: right;\">\n",
       "      <th></th>\n",
       "      <th>Wavelength</th>\n",
       "      <th>LII</th>\n",
       "      <th>Z-Wavelength</th>\n",
       "      <th>Z-LII</th>\n",
       "    </tr>\n",
       "  </thead>\n",
       "  <tbody>\n",
       "    <tr>\n",
       "      <th>count</th>\n",
       "      <td>214.000000</td>\n",
       "      <td>214.000000</td>\n",
       "      <td>214.000000</td>\n",
       "      <td>214.000000</td>\n",
       "    </tr>\n",
       "    <tr>\n",
       "      <th>mean</th>\n",
       "      <td>695.912443</td>\n",
       "      <td>29.628555</td>\n",
       "      <td>1.121080</td>\n",
       "      <td>2.392773</td>\n",
       "    </tr>\n",
       "    <tr>\n",
       "      <th>std</th>\n",
       "      <td>26.535541</td>\n",
       "      <td>29.354604</td>\n",
       "      <td>1.468216</td>\n",
       "      <td>2.023393</td>\n",
       "    </tr>\n",
       "    <tr>\n",
       "      <th>min</th>\n",
       "      <td>660.272179</td>\n",
       "      <td>9.013721</td>\n",
       "      <td>-6.484168</td>\n",
       "      <td>-3.884029</td>\n",
       "    </tr>\n",
       "    <tr>\n",
       "      <th>25%</th>\n",
       "      <td>673.882165</td>\n",
       "      <td>12.535688</td>\n",
       "      <td>0.385649</td>\n",
       "      <td>1.215879</td>\n",
       "    </tr>\n",
       "    <tr>\n",
       "      <th>50%</th>\n",
       "      <td>690.774556</td>\n",
       "      <td>19.107018</td>\n",
       "      <td>1.200765</td>\n",
       "      <td>2.287555</td>\n",
       "    </tr>\n",
       "    <tr>\n",
       "      <th>75%</th>\n",
       "      <td>713.830314</td>\n",
       "      <td>31.999491</td>\n",
       "      <td>2.023972</td>\n",
       "      <td>3.556834</td>\n",
       "    </tr>\n",
       "    <tr>\n",
       "      <th>max</th>\n",
       "      <td>793.752836</td>\n",
       "      <td>193.262446</td>\n",
       "      <td>4.180853</td>\n",
       "      <td>9.518230</td>\n",
       "    </tr>\n",
       "  </tbody>\n",
       "</table>\n",
       "</div>"
      ],
      "text/plain": [
       "       Wavelength         LII  Z-Wavelength       Z-LII\n",
       "count  214.000000  214.000000    214.000000  214.000000\n",
       "mean   695.912443   29.628555      1.121080    2.392773\n",
       "std     26.535541   29.354604      1.468216    2.023393\n",
       "min    660.272179    9.013721     -6.484168   -3.884029\n",
       "25%    673.882165   12.535688      0.385649    1.215879\n",
       "50%    690.774556   19.107018      1.200765    2.287555\n",
       "75%    713.830314   31.999491      2.023972    3.556834\n",
       "max    793.752836  193.262446      4.180853    9.518230"
      ]
     },
     "execution_count": 40,
     "metadata": {},
     "output_type": "execute_result"
    }
   ],
   "source": [
    "(FRed[FRed['LII']>FRed_70]).describe()"
   ]
  },
  {
   "cell_type": "code",
   "execution_count": 33,
   "metadata": {},
   "outputs": [
    {
     "name": "stdout",
     "output_type": "stream",
     "text": [
      "2.3342007111\n",
      "214\n"
     ]
    }
   ],
   "source": [
    "FRed_30 = np.percentile(FRed['LII'],30)\n",
    "print(FRed_30)\n",
    "print(len(FRed[FRed['LII']<FRed_30]))"
   ]
  },
  {
   "cell_type": "code",
   "execution_count": 41,
   "metadata": {},
   "outputs": [
    {
     "data": {
      "text/html": [
       "<div>\n",
       "<style scoped>\n",
       "    .dataframe tbody tr th:only-of-type {\n",
       "        vertical-align: middle;\n",
       "    }\n",
       "\n",
       "    .dataframe tbody tr th {\n",
       "        vertical-align: top;\n",
       "    }\n",
       "\n",
       "    .dataframe thead th {\n",
       "        text-align: right;\n",
       "    }\n",
       "</style>\n",
       "<table border=\"1\" class=\"dataframe\">\n",
       "  <thead>\n",
       "    <tr style=\"text-align: right;\">\n",
       "      <th></th>\n",
       "      <th>Wavelength</th>\n",
       "      <th>LII</th>\n",
       "      <th>Z-Wavelength</th>\n",
       "      <th>Z-LII</th>\n",
       "    </tr>\n",
       "  </thead>\n",
       "  <tbody>\n",
       "    <tr>\n",
       "      <th>count</th>\n",
       "      <td>214.000000</td>\n",
       "      <td>214.000000</td>\n",
       "      <td>214.000000</td>\n",
       "      <td>214.000000</td>\n",
       "    </tr>\n",
       "    <tr>\n",
       "      <th>mean</th>\n",
       "      <td>689.610813</td>\n",
       "      <td>1.333895</td>\n",
       "      <td>1.134983</td>\n",
       "      <td>-1.782900</td>\n",
       "    </tr>\n",
       "    <tr>\n",
       "      <th>std</th>\n",
       "      <td>26.186152</td>\n",
       "      <td>0.540889</td>\n",
       "      <td>1.794619</td>\n",
       "      <td>1.587501</td>\n",
       "    </tr>\n",
       "    <tr>\n",
       "      <th>min</th>\n",
       "      <td>660.152331</td>\n",
       "      <td>0.503474</td>\n",
       "      <td>-4.667730</td>\n",
       "      <td>-8.563869</td>\n",
       "    </tr>\n",
       "    <tr>\n",
       "      <th>25%</th>\n",
       "      <td>668.833623</td>\n",
       "      <td>0.883704</td>\n",
       "      <td>0.297598</td>\n",
       "      <td>-2.553441</td>\n",
       "    </tr>\n",
       "    <tr>\n",
       "      <th>50%</th>\n",
       "      <td>683.251279</td>\n",
       "      <td>1.245743</td>\n",
       "      <td>1.239530</td>\n",
       "      <td>-1.851534</td>\n",
       "    </tr>\n",
       "    <tr>\n",
       "      <th>75%</th>\n",
       "      <td>703.981600</td>\n",
       "      <td>1.778564</td>\n",
       "      <td>1.907220</td>\n",
       "      <td>-1.103759</td>\n",
       "    </tr>\n",
       "    <tr>\n",
       "      <th>max</th>\n",
       "      <td>794.792681</td>\n",
       "      <td>2.332497</td>\n",
       "      <td>9.336158</td>\n",
       "      <td>5.115837</td>\n",
       "    </tr>\n",
       "  </tbody>\n",
       "</table>\n",
       "</div>"
      ],
      "text/plain": [
       "       Wavelength         LII  Z-Wavelength       Z-LII\n",
       "count  214.000000  214.000000    214.000000  214.000000\n",
       "mean   689.610813    1.333895      1.134983   -1.782900\n",
       "std     26.186152    0.540889      1.794619    1.587501\n",
       "min    660.152331    0.503474     -4.667730   -8.563869\n",
       "25%    668.833623    0.883704      0.297598   -2.553441\n",
       "50%    683.251279    1.245743      1.239530   -1.851534\n",
       "75%    703.981600    1.778564      1.907220   -1.103759\n",
       "max    794.792681    2.332497      9.336158    5.115837"
      ]
     },
     "execution_count": 41,
     "metadata": {},
     "output_type": "execute_result"
    }
   ],
   "source": [
    "(FRed[FRed['LII']<FRed_30]).describe()"
   ]
  }
 ],
 "metadata": {
  "kernelspec": {
   "display_name": "Python 3",
   "language": "python",
   "name": "python3"
  },
  "language_info": {
   "codemirror_mode": {
    "name": "ipython",
    "version": 3
   },
   "file_extension": ".py",
   "mimetype": "text/x-python",
   "name": "python",
   "nbconvert_exporter": "python",
   "pygments_lexer": "ipython3",
   "version": "3.10.0"
  },
  "orig_nbformat": 4
 },
 "nbformat": 4,
 "nbformat_minor": 2
}
